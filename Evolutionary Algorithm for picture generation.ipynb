{
 "cells": [
  {
   "cell_type": "markdown",
   "metadata": {},
   "source": [
    "# Evolutionary Algorithm: Picture generation\n",
    "*Kivotova Evgenia, March 2019*\n",
    "\n",
    "*GitHub:[Genvekt](https://github.com/Genvekt/Genetic-algorithm-for-picture-generation)*\n"
   ]
  },
  {
   "cell_type": "markdown",
   "metadata": {},
   "source": [
    "## Sections\n",
    "- [1. **General Description**](#General-Description)\n",
    "3. [2. **Image processing**](#Image-processing)\n",
    "    - [2.1 Input parameters](#Input-parameters)\n",
    "    2. [2.2 Supporting functions](#Supporting-functions:)\n",
    "    \n",
    "3. [3. **EA description**](#Evolutionary-algorithm-description)\n",
    "    - [3.1 Definitions](#Definitions)\n",
    "    2. [3.2 Chromasomas](#Chromasomas)\n",
    "    2. [3.3 Fitness Function](#Fitness-Function)\n",
    "    2. [3.4 Selection](#Selection)\n",
    "    2. [3.5 Cross Over](#Cross-Over)\n",
    "    2. [3.6 Mutation](#Mutation)\n",
    "    2. [3.7 Summary](#Resulting-structure-of-Genetic-Algorithm)\n",
    "4. [4. **WorkSpace**](#WorkSpace)\n",
    "    - [4.1 Defining initial image:](#Defining-initial-image:)\n",
    "    2. [4.2 Defining color combination: Precalculated patettes](#Defining-color-combination:-Use-precalculated-patettes)\n",
    "        - [4.2.1 Type I: Triad Combination](#Type-I:-Triad-Combination)\n",
    "        - [4.2.2 Type II: Analogy Combination](#Type-II:-Analogy-Combination)\n",
    "        - [4.2.3 Type III: Contrast Combination](#Type-III:-Contrast-Combination)\n",
    "    - [4.3 Defining color combination: Castom patettes](#Defining-color-combination:-Castom-patettes)\n",
    "    2. [4.4 Running algorithm](#Running-algorithm:)"
   ]
  },
  {
   "cell_type": "markdown",
   "metadata": {},
   "source": [
    "## General Description\n",
    "\n",
    "***\n",
    "\n",
    "This notebook uses Evolutionary algorithm to process input image into one that is desired to be beautiful.\n",
    "\n",
    "The ideal of beauty is specified by some *color combination*, incluting the desired colors and their percentage ratio."
   ]
  },
  {
   "cell_type": "markdown",
   "metadata": {},
   "source": [
    "## Image processing\n",
    "***\n",
    "### Input parameters\n",
    "The used Tools and Libraries are spesified here:"
   ]
  },
  {
   "cell_type": "code",
   "execution_count": 7,
   "metadata": {},
   "outputs": [],
   "source": [
    "from PIL import Image\n",
    "import numpy as np\n",
    "import matplotlib.pyplot as plt\n",
    "import math, random, time\n",
    "import ipywidgets as widgets"
   ]
  },
  {
   "cell_type": "markdown",
   "metadata": {},
   "source": [
    "Global variables which are used through the whole algorithm:"
   ]
  },
  {
   "cell_type": "code",
   "execution_count": 8,
   "metadata": {},
   "outputs": [],
   "source": [
    "total_pix = 0              #the total number of pixels in the image\n",
    "\n",
    "color_list = []            #the list of used colors in RGB format\n",
    "combinations_weights = []  #the list of color ids + its desired percentage ratio in picture\n",
    "combinations = []          #the list of color ids + its desired number of pixels in image\n",
    "\n",
    "selection_amount = 10  #the number of chromosomes to be selected for cross over\n",
    "mutation_barier_rotation = 0.2     #the probability of rotation\n",
    "mutation_barier_color_change = 0.4 #the probability of one color change by another"
   ]
  },
  {
   "cell_type": "markdown",
   "metadata": {},
   "source": [
    "### Supporting functions:"
   ]
  },
  {
   "cell_type": "code",
   "execution_count": 9,
   "metadata": {},
   "outputs": [],
   "source": [
    "#distance between 2 points in 3D\n",
    "def distance(v1, v2):\n",
    "    return math.sqrt(pow(v1[0]-v2[0],2)+pow(v1[1]-v2[1],2)+pow(v1[2]-v2[2],2))"
   ]
  },
  {
   "cell_type": "code",
   "execution_count": 33,
   "metadata": {},
   "outputs": [],
   "source": [
    "#convert image to matrix with ids of used colors\n",
    "def img_to_colors(img,colors):\n",
    "    h,w = img.size\n",
    "    data = np.array(img).tolist()\n",
    "    codes = []\n",
    "    for row in data:\n",
    "        c_row = []\n",
    "        for pix in row:\n",
    "            index = 0\n",
    "            dest = 10000.0\n",
    "            for i in range(len(colors)):\n",
    "                dest_temp = distance(colors[i],pix)\n",
    "                if dest_temp < dest:\n",
    "                    dest = dest_temp\n",
    "                    index = i\n",
    "            c_row.append(index)\n",
    "        codes.append(c_row)\n",
    "    return(codes)"
   ]
  },
  {
   "cell_type": "code",
   "execution_count": 12,
   "metadata": {},
   "outputs": [],
   "source": [
    "def code_to_img(codes,colors):\n",
    "    arr = []\n",
    "    for row in codes:\n",
    "        for i in row:\n",
    "            arr.append(tuple(color_list[colors.get(i)]))\n",
    "            \n",
    "    img2 = Image.new('RGB', tuple([len(codes),len(codes[0])]))\n",
    "    img2.putdata(arr)\n",
    "    return img2"
   ]
  },
  {
   "cell_type": "code",
   "execution_count": 13,
   "metadata": {},
   "outputs": [],
   "source": [
    "#compute list of pixels per color from combinations_weights and total_pix \n",
    "def eval_combinations(tot_pix, combi):\n",
    "    res = []\n",
    "    for comb  in combi:\n",
    "        res_comb = []\n",
    "        for col in comb:\n",
    "            res_comb.append([col[0],int(tot_pix*col[1])])\n",
    "        res.append(res_comb)\n",
    "    return(res)"
   ]
  },
  {
   "cell_type": "code",
   "execution_count": 14,
   "metadata": {},
   "outputs": [],
   "source": [
    "def custom_palette():\n",
    "    print(\"How many colors combination will have?\")\n",
    "    n_cols = int(input())\n",
    "    for i in range(n_cols):\n",
    "\n",
    "        palette.append([\n",
    "            widgets.ColorPicker(\n",
    "                concise=False,\n",
    "                description='Color '+str(i+1)+':',\n",
    "                value='#ffffff',\n",
    "                disabled=False\n",
    "            ),\n",
    "            widgets.IntSlider(\n",
    "                value=0,\n",
    "                min=0,\n",
    "                max=100,\n",
    "                step=1,\n",
    "                description='Amount:',\n",
    "                disabled=False,\n",
    "                continuous_update=False,\n",
    "                orientation='horizontal',\n",
    "                readout=True,\n",
    "                readout_format='d'\n",
    "            )\n",
    "        ])\n",
    "\n",
    "    for i in range(n_cols):\n",
    "        display(palette[i][0])\n",
    "        display(palette[i][1])"
   ]
  },
  {
   "cell_type": "code",
   "execution_count": 15,
   "metadata": {},
   "outputs": [],
   "source": [
    "def palette_to_combination():\n",
    "    total = 0\n",
    "    color_list = []\n",
    "    combinations_weights = [[]]\n",
    "    for i in range(len(palette)):\n",
    "        total+=palette[i][1].value\n",
    "    for i in range(len(palette)):\n",
    "        h = palette[i][0].value.lstrip('#')\n",
    "        color_list.append([int(h[i:i+2], 16) for i in (0, 2, 4)])\n",
    "        combinations_weights[0].append([i,palette[i][1].value/total])\n",
    "    return(color_list, combinations_weights)\n",
    "    "
   ]
  },
  {
   "cell_type": "code",
   "execution_count": 16,
   "metadata": {},
   "outputs": [],
   "source": [
    "def log_progress(sequence, every=None, size=None, name='Items'):\n",
    "    from ipywidgets import IntProgress, HTML, VBox\n",
    "    from IPython.display import display\n",
    "\n",
    "    is_iterator = False\n",
    "    if size is None:\n",
    "        try:\n",
    "            size = len(sequence)\n",
    "        except TypeError:\n",
    "            is_iterator = True\n",
    "    if size is not None:\n",
    "        if every is None:\n",
    "            if size <= 200:\n",
    "                every = 1\n",
    "            else:\n",
    "                every = int(size / 200)     # every 0.5%\n",
    "    else:\n",
    "        assert every is not None, 'sequence is iterator, set every'\n",
    "\n",
    "    if is_iterator:\n",
    "        progress = IntProgress(min=0, max=1, value=1)\n",
    "        progress.bar_style = 'info'\n",
    "    else:\n",
    "        progress = IntProgress(min=0, max=size, value=0)\n",
    "    label = HTML()\n",
    "    box = VBox(children=[label, progress])\n",
    "    display(box)\n",
    "\n",
    "    index = 0\n",
    "    try:\n",
    "        for index, record in enumerate(sequence, 1):\n",
    "            if index == 1 or index % every == 0:\n",
    "                if is_iterator:\n",
    "                    label.value = '{name}: {index} / ?'.format(\n",
    "                        name=name,\n",
    "                        index=index\n",
    "                    )\n",
    "                else:\n",
    "                    progress.value = index\n",
    "                    label.value = u'{name}: {index} / {size}'.format(\n",
    "                        name=name,\n",
    "                        index=index,\n",
    "                        size=size\n",
    "                    )\n",
    "            yield record\n",
    "    except:\n",
    "        progress.bar_style = 'danger'\n",
    "        raise\n",
    "    else:\n",
    "        progress.bar_style = 'success'\n",
    "        progress.value = index\n",
    "        label.value = \"{name}: {index}\".format(\n",
    "            name=name,\n",
    "            index=str(index or '?')\n",
    "        )"
   ]
  },
  {
   "cell_type": "markdown",
   "metadata": {},
   "source": [
    "\n",
    "## Evolutionary algorithm description\n",
    "***\n",
    "### Definitions\n",
    "In this algorithm, the text terminology and methods are used:\n",
    "\n",
    "| Chromosoma         | Population     |Selection      |Cross over|Mutations|\n",
    "|--------------------|----------------|---------------|----------|-----------|\n",
    "| Full sized picture |Set of pictures |Selection Wheel|Cut and merge pictures| Rotation and color change|\n",
    "\n",
    "\n",
    "\n",
    "### Chromasomas\n",
    "\n",
    "Chromasoma is presented by coded picture with dictionary mapping code to color.\n",
    "\n",
    "The initial population is created from initial image simply by color shifting:"
   ]
  },
  {
   "cell_type": "code",
   "execution_count": 17,
   "metadata": {},
   "outputs": [],
   "source": [
    "def create_population(img,colors):\n",
    "    print(\"Creating population...\")\n",
    "    data = img_to_colors(img,colors)\n",
    "    chroms = []\n",
    "    indexes = [i for i in range(len(colors))]\n",
    "    for i in range(len(colors)):\n",
    "        dic = {}\n",
    "        temp = indexes[1:]\n",
    "        temp.append(indexes[0])\n",
    "        indexes = temp\n",
    "        for i in range(len(colors)):\n",
    "            dic[i] = indexes[i]\n",
    "        chroms.append([data,dic])\n",
    "    print(\"Creation done.\")\n",
    "    return(chroms)"
   ]
  },
  {
   "cell_type": "markdown",
   "metadata": {},
   "source": [
    "### Fitness Function\n",
    "The fitnes function evaluates the difference between curent distribution of colors with desired destribution. Also, it tracks the color despersion, so that picture do not became so that the picture does not become too noisy.\n",
    "\n",
    "In general, if we define differense as **_D_**, dispersion value as **_N_**, total number of pixels as **_P_** and total number of colors used as **_C_**, the formula for beauty score **_B_** may be shown as:\n",
    "\n",
    "$\\begin{equation} B = \\frac{P  C }{1 + D + \\frac{1}{2}P N} \\end{equation}$\n",
    "\n",
    "This equation is choosed so that with smal change of D or N the B changes a lot."
   ]
  },
  {
   "cell_type": "code",
   "execution_count": 88,
   "metadata": {},
   "outputs": [],
   "source": [
    "def eval_beauty(popularity, dispertion):\n",
    "    beauty = total_pix*len(popularity)\n",
    "    b = 100\n",
    "    for comb in combinations:\n",
    "        comb_beauty = 0\n",
    "        for col in comb:\n",
    "            comb_beauty += abs(popularity[col[0]] - col[1])\n",
    "        if comb_beauty < beauty:\n",
    "            beauty = comb_beauty\n",
    "    return(total_pix*len(popularity)/(1+beauty+(total_pix/2*dispertion)))"
   ]
  },
  {
   "cell_type": "code",
   "execution_count": 19,
   "metadata": {},
   "outputs": [],
   "source": [
    "def eval_fitness(chroms):\n",
    "    fitness = []\n",
    "    for c in chroms:\n",
    "        popularity = [0 for i in range(len(c[1]))] #popularity of each color\n",
    "        dispersion = 0.0                           #dispersion of colors\n",
    "        m = len(c[0])\n",
    "        n = len(c[0][0])\n",
    "        for i in range(m):\n",
    "            for j in range(n):\n",
    "                disp_local = 0.0\n",
    "                popularity[c[1].get(c[0][i][j])] += 1\n",
    "                if(i>0) and c[0][i][j] != c[0][i-1][j]:\n",
    "                    disp_local += 0.25\n",
    "                if(i<m-1) and c[0][i][j] != c[0][i+1][j]:\n",
    "                    disp_local += 0.25\n",
    "                if(j>0) and c[0][i][j] != c[0][i][j-1]:\n",
    "                    disp_local += 0.25\n",
    "                if(j<n-1) and c[0][i][j] != c[0][i][j+1]:\n",
    "                    disp_local += 0.25\n",
    "                dispersion += disp_local\n",
    "        dispertion_total = dispersion/(4*0.5+2*(m-2)*0.75+2*(n-2)*0.75+(m-2)*(n-2))\n",
    "        fitness.append(eval_beauty(popularity,dispertion_total))\n",
    "    return(fitness)"
   ]
  },
  {
   "cell_type": "markdown",
   "metadata": {},
   "source": [
    "### Selection\n",
    "To perform selection of chromasoms for next population the Weel method is used"
   ]
  },
  {
   "cell_type": "code",
   "execution_count": 20,
   "metadata": {},
   "outputs": [],
   "source": [
    "def selection(chroms,fitness):\n",
    "    p = []\n",
    "    total = sum(fitness)\n",
    "    for f in fitness:\n",
    "        p.append(f/total)\n",
    "    com = []\n",
    "    com.append(p[0])\n",
    "    for i in range(1,len(p)):\n",
    "            com.append(com[i-1]+p[i])\n",
    "            \n",
    "    result = []\n",
    "    for i in range(selection_amount):\n",
    "        up = 0\n",
    "        arrow = random.random()\n",
    "        k = 0\n",
    "        while(com[k]<arrow):\n",
    "            k += 1\n",
    "        result.append(chroms[k])\n",
    "    return(result)"
   ]
  },
  {
   "cell_type": "markdown",
   "metadata": {},
   "source": [
    "### Cross Over\n",
    "In crossover stage, the chromasoms are united to pairs of CH1 and CH2. Then random number A is choosed from range (0,1) and then two new chromasoms are created, first comtaining the A part of CH1 from left and (1-A) part of CH2 from right, second - the A part of CH2 from left and (1-A) part of CH1 from right."
   ]
  },
  {
   "cell_type": "code",
   "execution_count": 21,
   "metadata": {},
   "outputs": [],
   "source": [
    "def cross_over(chroms):\n",
    "    children = []\n",
    "    for i in range(int(len(chroms)/2)):\n",
    "        a, b = combine(chroms[i*2], chroms[i*2+1])\n",
    "        children.append(a)\n",
    "        children.append(b)\n",
    "    return(chroms+children)"
   ]
  },
  {
   "cell_type": "code",
   "execution_count": 22,
   "metadata": {},
   "outputs": [],
   "source": [
    "def combine(ch1, ch2):\n",
    "    tlt12 = {}\n",
    "    tlt21 = {}\n",
    "    child1 = [[],ch1[1]]\n",
    "    child2 = [[],ch2[1]]\n",
    "    m = len(ch1[0])\n",
    "    n = len(ch1[0][0])\n",
    "    alpha = int(n*random.random())\n",
    "    \n",
    "    \n",
    "    for code1, col1 in ch1[1].items():\n",
    "        for code2, col2 in ch2[1].items():\n",
    "            if col1 == col2:\n",
    "                tlt12[code1] = code2\n",
    "                tlt21[code2] = code1\n",
    "                break\n",
    "                \n",
    "    for i in range(m):\n",
    "        r1 = []\n",
    "        r2 = []\n",
    "        for j in range(n):\n",
    "            if j<(alpha):\n",
    "                r1.append(ch1[0][i][j])\n",
    "                r2.append(ch2[0][i][j])\n",
    "            else:\n",
    "                r1.append(tlt21.get(ch2[0][i][j]))\n",
    "                r2.append(tlt12.get(ch1[0][i][j]))\n",
    "               \n",
    "        child1[0].append(r1)\n",
    "        child2[0].append(r2)\n",
    "    return(child1, child2)"
   ]
  },
  {
   "cell_type": "markdown",
   "metadata": {},
   "source": [
    "### Mutation\n",
    "Mutation is defined by random rotation (90 clockwise) and random color change."
   ]
  },
  {
   "cell_type": "code",
   "execution_count": 23,
   "metadata": {},
   "outputs": [],
   "source": [
    "def mutation(chroms):\n",
    "    for i in range(len(chroms)):\n",
    "        #examin rotation\n",
    "        ror = random.random()\n",
    "        if ror < mutation_barier_rotation: #mutation happens\n",
    "            mutated_chrom = [rotate(chroms[i][0]),chroms[i][1]]\n",
    "            chroms[i] = mutated_chrom\n",
    "        #examin color change\n",
    "        ror = random.random()\n",
    "        if ror < mutation_barier_color_change: #color change happens\n",
    "            c1 = random.randint(0,len(chroms[i][1])-1)\n",
    "            c2 = random.randint(0,len(chroms[i][1])-1)\n",
    "            while(c1 == c2):\n",
    "                c2 = random.randint(0,len(chroms[i][1])-1)\n",
    "            mutated_chrom = [change_color(chroms[i][0],c1,c2),chroms[i][1]]\n",
    "            chroms[i] = mutated_chrom\n",
    "    return chroms"
   ]
  },
  {
   "cell_type": "code",
   "execution_count": 24,
   "metadata": {},
   "outputs": [],
   "source": [
    "def rotate(matrix):\n",
    "    return ([list(row) for row in zip(*matrix[::-1])])"
   ]
  },
  {
   "cell_type": "code",
   "execution_count": 25,
   "metadata": {},
   "outputs": [],
   "source": [
    "def change_color(matrix,c1,c2):\n",
    "    for i in range(len(matrix)):\n",
    "        for j in range(len(matrix[i])):\n",
    "            if matrix[i][j] == c1:\n",
    "                matrix[i][j] = c2\n",
    "    return matrix"
   ]
  },
  {
   "cell_type": "markdown",
   "metadata": {},
   "source": [
    "### Resulting structure of Evolutionary Algorithm"
   ]
  },
  {
   "cell_type": "code",
   "execution_count": 107,
   "metadata": {},
   "outputs": [],
   "source": [
    "def ea(img,colors,populations):\n",
    "    chromasoms = create_population(img, color_list)\n",
    "    initial = chromasoms[len(chromasoms)-1]\n",
    "    f_best = [[],[]]\n",
    "    for i in log_progress(range(populations)):\n",
    "        fit = eval_fitness(chromasoms) \n",
    "        win = np.argmax(fit)\n",
    "        f_best[0].append(i)\n",
    "        f_best[1].append(fit[win])\n",
    "        chromasoms = mutation(cross_over(selection(chromasoms, fit)))\n",
    "    \n",
    " \n",
    "    fit = eval_fitness(chromasoms)\n",
    "    win = np.argmax(fit)\n",
    "    \n",
    "    plt.plot(f_best[0], f_best[1])\n",
    "    return(code_to_img(chromasoms[win][0],chromasoms[win][1]))\n"
   ]
  },
  {
   "cell_type": "code",
   "execution_count": 27,
   "metadata": {},
   "outputs": [],
   "source": [
    "def show_chroms(chromes, columns, rows):\n",
    "    fig=plt.figure(figsize=(10, 30))\n",
    "    i = 1;\n",
    "    for c in chromes:\n",
    "        fig.add_subplot(rows, columns, i)\n",
    "        plt.imshow(code_to_img(c[0],c[1]))\n",
    "        plt.axis(\"off\")\n",
    "        i+=1"
   ]
  },
  {
   "cell_type": "markdown",
   "metadata": {},
   "source": [
    "## WorkSpace\n",
    "***\n",
    "In this section user may set up algorithm parameters and see the results or its work"
   ]
  },
  {
   "cell_type": "markdown",
   "metadata": {},
   "source": [
    "### Defining initial image:\n",
    "Image may be any size, but MUST be square-shaped so that all sides are equal (128x128, 512x512, etc.). The larger image, the slower its processing."
   ]
  },
  {
   "cell_type": "code",
   "execution_count": 99,
   "metadata": {},
   "outputs": [
    {
     "data": {
      "image/png": "[encoded data removed]",
      "text/plain": [
       "<PIL.JpegImagePlugin.JpegImageFile image mode=RGB size=512x512 at 0x1B3AED6B630>"
      ]
     },
     "execution_count": 99,
     "metadata": {},
     "output_type": "execute_result"
    }
   ],
   "source": [
    "try:  \n",
    "    img  = Image.open(\"white.jpg\")\n",
    "except IOError: \n",
    "    print(\"No such image!\")\n",
    "w,h = img.size\n",
    "total_pix = w*h\n",
    "img"
   ]
  },
  {
   "cell_type": "markdown",
   "metadata": {},
   "source": [
    "### Defining color combination: Use precalculated patettes\n",
    "#### Type I: Triadic Combination"
   ]
  },
  {
   "cell_type": "markdown",
   "metadata": {},
   "source": [
    "__[Palette 1:](https://colorscheme.ru/export/screenshot/palette_3831Sw0w0w0w0.png.html)__\n",
    "<table>\n",
    "    <tr>\n",
    "        <td> <img src=\"files/Palettes/Screenshot_1.png\" alt=\"Snow\" style=\"width:80%\"></td>\n",
    "        <td> <img src=\"files/Palettes/1.png\" alt=\"Forest\" style=\"width:80%\"></td>\n",
    "    </tr>\n",
    "</table>\n",
    "\n"
   ]
  },
  {
   "cell_type": "code",
   "execution_count": 68,
   "metadata": {},
   "outputs": [],
   "source": [
    "color_list =[[0, 168, 118],[32, 126, 98],[0, 109, 76],[53, 212, 164],[95, 212, 177],[255, 153, 0],\n",
    "             [191, 134, 48],[166, 99, 0],[255, 178, 64],[255, 199, 115],[237, 0, 47],[178, 45, 71],\n",
    "             [154, 0, 30],[246, 62, 98],[246, 111, 137],[255, 255, 255],[0, 0, 0],[0, 128, 255],\n",
    "             [255, 0, 255],[171, 171, 171]]"
   ]
  },
  {
   "cell_type": "code",
   "execution_count": 69,
   "metadata": {},
   "outputs": [],
   "source": [
    "combinations_weights = [[[0, 0.25],[1, 0.06],[2, 0.06],[3, 0.06],[4, 0.06],[5, 0.13],[6, 0.03],\n",
    "                         [7, 0.03],[8, 0.03],[9, 0.14],[10, 0.03],[11, 0.03],[12, 0.03],[13, 0.03],\n",
    "                         [14, 0.03],[15, 0.0],[16, 0.0],[17, 0.0],[18, 0.0],[19, 0.0]]]"
   ]
  },
  {
   "cell_type": "markdown",
   "metadata": {},
   "source": [
    "__[Palette 2:](https://colorscheme.ru/export/screenshot/palette_2r31Sw0w0w0w0.png.html)__\n",
    "<table>\n",
    "    <tr>\n",
    "        <td> <img src=\"files/Palettes/Screenshot_2.png\" alt=\"Snow\" style=\"width:80%\"></td>\n",
    "        <td> <img src=\"files/Palettes/2.png\" alt=\"Forest\" style=\"width:80%\"></td>\n",
    "    </tr>\n",
    "</table>"
   ]
  },
  {
   "cell_type": "code",
   "execution_count": 62,
   "metadata": {},
   "outputs": [],
   "source": [
    "color_list =[[142, 235, 0],[124, 176, 44],[92, 153, 0],[172, 245, 61],[192, 245, 110],[255, 24, 0],\n",
    "             [191, 61, 48],[166, 16, 0],[255, 82, 64],[255, 128, 115],[129, 6, 169],[104, 35, 127],\n",
    "             [84, 2, 110],[175, 59, 212],[185, 100, 212],[255, 255, 255],[0, 0, 0],[0, 128, 255],\n",
    "             [255, 255, 0],[171, 171, 171]]"
   ]
  },
  {
   "cell_type": "code",
   "execution_count": 63,
   "metadata": {},
   "outputs": [],
   "source": [
    "combinations_weights = [[[0, 0.25],[1, 0.06],[2, 0.06],[3, 0.06],[4, 0.06],[5, 0.13],[6, 0.03],\n",
    "                         [7, 0.03],[8, 0.03],[9, 0.14],[10, 0.03],[11, 0.03],[12, 0.03],[13, 0.03],\n",
    "                         [14, 0.03],[15, 0.0],[16, 0.0],[17, 0.0],[18, 0.0],[19, 0.0]]]"
   ]
  },
  {
   "cell_type": "markdown",
   "metadata": {},
   "source": [
    "__[Palette 3:](https://colorscheme.ru/export/screenshot/palette_5h32Fw0w0w0w0.png.html)__\n",
    "<table>\n",
    "    <tr>\n",
    "        <td> <img src=\"files/Palettes/Screenshot_3.png\" alt=\"Snow\" style=\"width:80%\"></td>\n",
    "        <td> <img src=\"files/Palettes/3.png\" alt=\"Forest\" style=\"width:80%\"></td>\n",
    "    </tr>\n",
    "</table>"
   ]
  },
  {
   "cell_type": "code",
   "execution_count": 76,
   "metadata": {},
   "outputs": [],
   "source": [
    "color_list =[[216, 0, 95],[162, 40, 94],[140, 0, 61],[235, 59, 136],[235, 106, 163],[16, 71, 170],\n",
    "             [41, 71, 127],[5, 42, 110],[69, 119, 212],[107, 144, 212],[255, 194, 0],[191, 157, 48],\n",
    "             [166, 126, 0],[255, 209, 64],[255, 221, 115],[255, 255, 255],[0, 0, 0],[0, 255, 0],\n",
    "             [255, 128, 0],[171, 171, 171]]"
   ]
  },
  {
   "cell_type": "code",
   "execution_count": 77,
   "metadata": {},
   "outputs": [],
   "source": [
    "combinations_weights = [[[0, 0.25],[1, 0.06],[2, 0.06],[3, 0.06],[4, 0.06],[5, 0.13],[6, 0.03],\n",
    "                         [7, 0.03],[8, 0.03],[9, 0.14],[10, 0.03],[11, 0.03],[12, 0.03],[13, 0.03],\n",
    "                         [14, 0.03],[15, 0.0],[16, 0.0],[17, 0.0],[18, 0.0],[19, 0.0]]]"
   ]
  },
  {
   "cell_type": "markdown",
   "metadata": {},
   "source": [
    "#### Type II: __[ Analogious Combination](https://colorscheme.ru/export/screenshot/palette_0L51Tw0w0w0w0.png.html)__\n",
    "<table>\n",
    "    <tr>\n",
    "        <td> <img src=\"files/Palettes/Screenshot_4.png\" alt=\"Snow\" style=\"width:80%\"></td>\n",
    "        <td> <img src=\"files/Palettes/4.png\" alt=\"Forest\" style=\"width:80%\"></td>\n",
    "    </tr>\n",
    "</table>"
   ]
  },
  {
   "cell_type": "code",
   "execution_count": 50,
   "metadata": {},
   "outputs": [],
   "source": [
    "color_list = [[255, 151, 0],[191, 133, 48],[166, 98, 0],[255, 177, 64],[255, 198, 115],[255, 195, 0],\n",
    "              [191, 158, 48],[166, 127, 0],[255, 210, 64],[255, 222, 115],[255, 83, 0],[191, 94, 48],\n",
    "              [166, 54, 0],[255, 126, 64],[255, 160, 115],[255, 255, 255],[0, 0, 0],[0, 255, 0],\n",
    "              [0, 128, 255],[255, 0, 128]]"
   ]
  },
  {
   "cell_type": "code",
   "execution_count": 51,
   "metadata": {},
   "outputs": [],
   "source": [
    "combinations_weights = [[[0, 0.25],[1, 0.06],[2, 0.06],[3, 0.06],[4, 0.06],[5, 0.13],[6, 0.03],\n",
    "                         [7, 0.03],[8, 0.03],[9, 0.14],[10, 0.03],[11, 0.03],[12, 0.03],[13, 0.03],\n",
    "                         [14, 0.03],[15, 0.0],[16, 0.0],[17, 0.0],[18, 0.0],[19, 0.0]]]"
   ]
  },
  {
   "cell_type": "markdown",
   "metadata": {},
   "source": [
    "#### Type III:   __[ Contrast Combination](https://colorscheme.ru/export/screenshot/palette_57227w0w0w0w0.png.html)__\n",
    "\n",
    "<table>\n",
    "    <tr>\n",
    "        <td> <img src=\"files/Palettes/Screenshot_5.png\" alt=\"Snow\" style=\"width:80%\"></td>\n",
    "        <td> <img src=\"files/Palettes/5.png\" alt=\"Forest\" style=\"width:80%\"></td>\n",
    "    </tr>\n",
    "</table>"
   ]
  },
  {
   "cell_type": "code",
   "execution_count": 106,
   "metadata": {},
   "outputs": [],
   "source": [
    "color_list = [[199, 0, 125],[149, 37, 108],[129, 0, 81],[227, 57, 164],[227, 102, 181],[168, 240, 0],\n",
    "              [139, 180, 45],[109, 156, 0],[192, 247, 62],[207, 247, 111],[255, 255, 255],[0, 0, 0],\n",
    "              [0, 255, 255],[0, 0, 255],[255, 128, 0]]"
   ]
  },
  {
   "cell_type": "code",
   "execution_count": 108,
   "metadata": {},
   "outputs": [],
   "source": [
    "combinations_weights = [[[0, 0.3917525773195876],[1, 0.09278350515463918],[2, 0.09278350515463918],\n",
    "                         [3, 0.09278350515463918],[4, 0.09278350515463918],[5, 0.13402061855670103],\n",
    "                         [6, 0.010309278350515464],[7, 0.030927835051546393],\n",
    "                         [8, 0.030927835051546393],[9, 0.030927835051546393],[10, 0.0],[11, 0.0],\n",
    "                         [12, 0.0],[13, 0.0],[14, 0.0]]]"
   ]
  },
  {
   "cell_type": "markdown",
   "metadata": {},
   "source": [
    "### Defining color combination: Castom patettes\n",
    "Use this to specify castom palette"
   ]
  },
  {
   "cell_type": "code",
   "execution_count": 96,
   "metadata": {},
   "outputs": [
    {
     "name": "stdout",
     "output_type": "stream",
     "text": [
      "How many colors combination will have?\n",
      "5\n"
     ]
    },
    {
     "data": {
      "application/vnd.jupyter.widget-view+json": {
       "model_id": "f926f0c27c8a40398686cded908151f1",
       "version_major": 2,
       "version_minor": 0
      },
      "text/plain": [
       "ColorPicker(value='#ffffff', description='Color 1:')"
      ]
     },
     "metadata": {},
     "output_type": "display_data"
    },
    {
     "data": {
      "application/vnd.jupyter.widget-view+json": {
       "model_id": "3dd34962eb754878aeadad9125ca054d",
       "version_major": 2,
       "version_minor": 0
      },
      "text/plain": [
       "IntSlider(value=0, continuous_update=False, description='Amount:')"
      ]
     },
     "metadata": {},
     "output_type": "display_data"
    },
    {
     "data": {
      "application/vnd.jupyter.widget-view+json": {
       "model_id": "be0fa24d48334af4b8924b87baa16b7b",
       "version_major": 2,
       "version_minor": 0
      },
      "text/plain": [
       "ColorPicker(value='#ffffff', description='Color 2:')"
      ]
     },
     "metadata": {},
     "output_type": "display_data"
    },
    {
     "data": {
      "application/vnd.jupyter.widget-view+json": {
       "model_id": "be213773ed27410281a1c311e9556a75",
       "version_major": 2,
       "version_minor": 0
      },
      "text/plain": [
       "IntSlider(value=0, continuous_update=False, description='Amount:')"
      ]
     },
     "metadata": {},
     "output_type": "display_data"
    },
    {
     "data": {
      "application/vnd.jupyter.widget-view+json": {
       "model_id": "a1c8ce42e59f4400826972c5e9b76e43",
       "version_major": 2,
       "version_minor": 0
      },
      "text/plain": [
       "ColorPicker(value='#ffffff', description='Color 3:')"
      ]
     },
     "metadata": {},
     "output_type": "display_data"
    },
    {
     "data": {
      "application/vnd.jupyter.widget-view+json": {
       "model_id": "3401c7bab1074d9f91a68672d762cb93",
       "version_major": 2,
       "version_minor": 0
      },
      "text/plain": [
       "IntSlider(value=0, continuous_update=False, description='Amount:')"
      ]
     },
     "metadata": {},
     "output_type": "display_data"
    },
    {
     "data": {
      "application/vnd.jupyter.widget-view+json": {
       "model_id": "d45db564be8c4ed8a5d5fe468c550b16",
       "version_major": 2,
       "version_minor": 0
      },
      "text/plain": [
       "ColorPicker(value='#ffffff', description='Color 4:')"
      ]
     },
     "metadata": {},
     "output_type": "display_data"
    },
    {
     "data": {
      "application/vnd.jupyter.widget-view+json": {
       "model_id": "0789c7e332744e7ab6f604ba6388f88e",
       "version_major": 2,
       "version_minor": 0
      },
      "text/plain": [
       "IntSlider(value=0, continuous_update=False, description='Amount:')"
      ]
     },
     "metadata": {},
     "output_type": "display_data"
    },
    {
     "data": {
      "application/vnd.jupyter.widget-view+json": {
       "model_id": "10de86703117402487c939e768232b83",
       "version_major": 2,
       "version_minor": 0
      },
      "text/plain": [
       "ColorPicker(value='#ffffff', description='Color 5:')"
      ]
     },
     "metadata": {},
     "output_type": "display_data"
    },
    {
     "data": {
      "application/vnd.jupyter.widget-view+json": {
       "model_id": "7b0b3871fb4443659e058efd7b3197c2",
       "version_major": 2,
       "version_minor": 0
      },
      "text/plain": [
       "IntSlider(value=0, continuous_update=False, description='Amount:')"
      ]
     },
     "metadata": {},
     "output_type": "display_data"
    }
   ],
   "source": [
    "palette = []\n",
    "custom_palette()"
   ]
  },
  {
   "cell_type": "code",
   "execution_count": 97,
   "metadata": {},
   "outputs": [],
   "source": [
    "color_list, combinations_weights = palette_to_combination()"
   ]
  },
  {
   "cell_type": "markdown",
   "metadata": {},
   "source": [
    "### Running algorithm:\n",
    "Transform chosen color palette into combination:"
   ]
  },
  {
   "cell_type": "code",
   "execution_count": 98,
   "metadata": {},
   "outputs": [],
   "source": [
    "combinations = eval_combinations(total_pix, combinations_weights)"
   ]
  },
  {
   "cell_type": "markdown",
   "metadata": {},
   "source": [
    "Run:"
   ]
  },
  {
   "cell_type": "code",
   "execution_count": 108,
   "metadata": {
    "scrolled": false
   },
   "outputs": [
    {
     "name": "stdout",
     "output_type": "stream",
     "text": [
      "Creating population...\n",
      "Creation done.\n"
     ]
    },
    {
     "data": {
      "application/vnd.jupyter.widget-view+json": {
       "model_id": "dc901f55d4614fc8ba668640e303f972",
       "version_major": 2,
       "version_minor": 0
      },
      "text/plain": [
       "VBox(children=(HTML(value=''), IntProgress(value=0, max=75)))"
      ]
     },
     "metadata": {},
     "output_type": "display_data"
    },
    {
     "ename": "KeyboardInterrupt",
     "evalue": "",
     "output_type": "error",
     "traceback": [
      "\u001b[1;31m---------------------------------------------------------------------------\u001b[0m",
      "\u001b[1;31mKeyboardInterrupt\u001b[0m                         Traceback (most recent call last)",
      "\u001b[1;32m<ipython-input-108-d579cedf4b7e>\u001b[0m in \u001b[0;36m<module>\u001b[1;34m\u001b[0m\n\u001b[1;32m----> 1\u001b[1;33m \u001b[0mres_img\u001b[0m \u001b[1;33m=\u001b[0m \u001b[0mea\u001b[0m\u001b[1;33m(\u001b[0m\u001b[0mimg\u001b[0m\u001b[1;33m,\u001b[0m \u001b[0mcolor_list\u001b[0m\u001b[1;33m,\u001b[0m \u001b[1;36m75\u001b[0m\u001b[1;33m)\u001b[0m\u001b[1;33m\u001b[0m\u001b[1;33m\u001b[0m\u001b[0m\n\u001b[0m",
      "\u001b[1;32m<ipython-input-107-2a8297d7e866>\u001b[0m in \u001b[0;36mea\u001b[1;34m(img, colors, populations)\u001b[0m\n\u001b[0;32m      4\u001b[0m     \u001b[0mf_best\u001b[0m \u001b[1;33m=\u001b[0m \u001b[1;33m[\u001b[0m\u001b[1;33m[\u001b[0m\u001b[1;33m]\u001b[0m\u001b[1;33m,\u001b[0m\u001b[1;33m[\u001b[0m\u001b[1;33m]\u001b[0m\u001b[1;33m]\u001b[0m\u001b[1;33m\u001b[0m\u001b[1;33m\u001b[0m\u001b[0m\n\u001b[0;32m      5\u001b[0m     \u001b[1;32mfor\u001b[0m \u001b[0mi\u001b[0m \u001b[1;32min\u001b[0m \u001b[0mlog_progress\u001b[0m\u001b[1;33m(\u001b[0m\u001b[0mrange\u001b[0m\u001b[1;33m(\u001b[0m\u001b[0mpopulations\u001b[0m\u001b[1;33m)\u001b[0m\u001b[1;33m)\u001b[0m\u001b[1;33m:\u001b[0m\u001b[1;33m\u001b[0m\u001b[1;33m\u001b[0m\u001b[0m\n\u001b[1;32m----> 6\u001b[1;33m         \u001b[0mfit\u001b[0m \u001b[1;33m=\u001b[0m \u001b[0meval_fitness\u001b[0m\u001b[1;33m(\u001b[0m\u001b[0mchromasoms\u001b[0m\u001b[1;33m)\u001b[0m\u001b[1;33m\u001b[0m\u001b[1;33m\u001b[0m\u001b[0m\n\u001b[0m\u001b[0;32m      7\u001b[0m         \u001b[0mwin\u001b[0m \u001b[1;33m=\u001b[0m \u001b[0mnp\u001b[0m\u001b[1;33m.\u001b[0m\u001b[0margmax\u001b[0m\u001b[1;33m(\u001b[0m\u001b[0mfit\u001b[0m\u001b[1;33m)\u001b[0m\u001b[1;33m\u001b[0m\u001b[1;33m\u001b[0m\u001b[0m\n\u001b[0;32m      8\u001b[0m         \u001b[0mf_best\u001b[0m\u001b[1;33m[\u001b[0m\u001b[1;36m0\u001b[0m\u001b[1;33m]\u001b[0m\u001b[1;33m.\u001b[0m\u001b[0mappend\u001b[0m\u001b[1;33m(\u001b[0m\u001b[0mi\u001b[0m\u001b[1;33m)\u001b[0m\u001b[1;33m\u001b[0m\u001b[1;33m\u001b[0m\u001b[0m\n",
      "\u001b[1;32m<ipython-input-19-dcc375a3f1bb>\u001b[0m in \u001b[0;36meval_fitness\u001b[1;34m(chroms)\u001b[0m\n\u001b[0;32m     16\u001b[0m                 \u001b[1;32mif\u001b[0m\u001b[1;33m(\u001b[0m\u001b[0mj\u001b[0m\u001b[1;33m>\u001b[0m\u001b[1;36m0\u001b[0m\u001b[1;33m)\u001b[0m \u001b[1;32mand\u001b[0m \u001b[0mc\u001b[0m\u001b[1;33m[\u001b[0m\u001b[1;36m0\u001b[0m\u001b[1;33m]\u001b[0m\u001b[1;33m[\u001b[0m\u001b[0mi\u001b[0m\u001b[1;33m]\u001b[0m\u001b[1;33m[\u001b[0m\u001b[0mj\u001b[0m\u001b[1;33m]\u001b[0m \u001b[1;33m!=\u001b[0m \u001b[0mc\u001b[0m\u001b[1;33m[\u001b[0m\u001b[1;36m0\u001b[0m\u001b[1;33m]\u001b[0m\u001b[1;33m[\u001b[0m\u001b[0mi\u001b[0m\u001b[1;33m]\u001b[0m\u001b[1;33m[\u001b[0m\u001b[0mj\u001b[0m\u001b[1;33m-\u001b[0m\u001b[1;36m1\u001b[0m\u001b[1;33m]\u001b[0m\u001b[1;33m:\u001b[0m\u001b[1;33m\u001b[0m\u001b[1;33m\u001b[0m\u001b[0m\n\u001b[0;32m     17\u001b[0m                     \u001b[0mdisp_local\u001b[0m \u001b[1;33m+=\u001b[0m \u001b[1;36m0.25\u001b[0m\u001b[1;33m\u001b[0m\u001b[1;33m\u001b[0m\u001b[0m\n\u001b[1;32m---> 18\u001b[1;33m                 \u001b[1;32mif\u001b[0m\u001b[1;33m(\u001b[0m\u001b[0mj\u001b[0m\u001b[1;33m<\u001b[0m\u001b[0mn\u001b[0m\u001b[1;33m-\u001b[0m\u001b[1;36m1\u001b[0m\u001b[1;33m)\u001b[0m \u001b[1;32mand\u001b[0m \u001b[0mc\u001b[0m\u001b[1;33m[\u001b[0m\u001b[1;36m0\u001b[0m\u001b[1;33m]\u001b[0m\u001b[1;33m[\u001b[0m\u001b[0mi\u001b[0m\u001b[1;33m]\u001b[0m\u001b[1;33m[\u001b[0m\u001b[0mj\u001b[0m\u001b[1;33m]\u001b[0m \u001b[1;33m!=\u001b[0m \u001b[0mc\u001b[0m\u001b[1;33m[\u001b[0m\u001b[1;36m0\u001b[0m\u001b[1;33m]\u001b[0m\u001b[1;33m[\u001b[0m\u001b[0mi\u001b[0m\u001b[1;33m]\u001b[0m\u001b[1;33m[\u001b[0m\u001b[0mj\u001b[0m\u001b[1;33m+\u001b[0m\u001b[1;36m1\u001b[0m\u001b[1;33m]\u001b[0m\u001b[1;33m:\u001b[0m\u001b[1;33m\u001b[0m\u001b[1;33m\u001b[0m\u001b[0m\n\u001b[0m\u001b[0;32m     19\u001b[0m                     \u001b[0mdisp_local\u001b[0m \u001b[1;33m+=\u001b[0m \u001b[1;36m0.25\u001b[0m\u001b[1;33m\u001b[0m\u001b[1;33m\u001b[0m\u001b[0m\n\u001b[0;32m     20\u001b[0m                 \u001b[0mdispersion\u001b[0m \u001b[1;33m+=\u001b[0m \u001b[0mdisp_local\u001b[0m\u001b[1;33m\u001b[0m\u001b[1;33m\u001b[0m\u001b[0m\n",
      "\u001b[1;31mKeyboardInterrupt\u001b[0m: "
     ]
    }
   ],
   "source": [
    "res_img = ea(img, color_list, 75)"
   ]
  },
  {
   "cell_type": "markdown",
   "metadata": {},
   "source": [
    "Display initial image with the result:"
   ]
  },
  {
   "cell_type": "code",
   "execution_count": 105,
   "metadata": {
    "scrolled": false
   },
   "outputs": [
    {
     "data": {
      "text/plain": [
       "(-0.5, 511.5, 511.5, -0.5)"
      ]
     },
     "execution_count": 105,
     "metadata": {},
     "output_type": "execute_result"
    },
    {
     "data": {
      "image/png": "[encoded data removed]",
      "text/plain": [
       "<Figure size 7200x7200 with 2 Axes>"
      ]
     },
     "metadata": {
      "needs_background": "light"
     },
     "output_type": "display_data"
    }
   ],
   "source": [
    "fig = plt.figure(figsize=(100,100))\n",
    "a=fig.add_subplot(1,2,1)\n",
    "plt.imshow(img,cmap='Greys_r')\n",
    "plt.axis('off')\n",
    "a=fig.add_subplot(1,2,2)\n",
    "plt.imshow(res_img,cmap='Greys_r')\n",
    "plt.axis('off')\n"
   ]
  },
  {
   "cell_type": "markdown",
   "metadata": {},
   "source": [
    "Save the result:"
   ]
  },
  {
   "cell_type": "code",
   "execution_count": 106,
   "metadata": {},
   "outputs": [],
   "source": [
    "res_img.save(\"art2.jpg\")"
   ]
  }
 ],
 "metadata": {
  "kernelspec": {
   "display_name": "Python 3",
   "language": "python",
   "name": "python3"
  },
  "language_info": {
   "codemirror_mode": {
    "name": "ipython",
    "version": 3
   },
   "file_extension": ".py",
   "mimetype": "text/x-python",
   "name": "python",
   "nbconvert_exporter": "python",
   "pygments_lexer": "ipython3",
   "version": "3.6.8"
  }
 },
 "nbformat": 4,
 "nbformat_minor": 2
}
